{
  "nbformat": 4,
  "nbformat_minor": 0,
  "metadata": {
    "colab": {
      "provenance": [],
      "authorship_tag": "ABX9TyPggh9gBpmf5TqA8OZhcHR+",
      "include_colab_link": true
    },
    "kernelspec": {
      "name": "python3",
      "display_name": "Python 3"
    },
    "language_info": {
      "name": "python"
    }
  },
  "cells": [
    {
      "cell_type": "markdown",
      "metadata": {
        "id": "view-in-github",
        "colab_type": "text"
      },
      "source": [
        "<a href=\"https://colab.research.google.com/github/LuisPalominoR/Clase-3/blob/main/3a_PROTO.ipynb\" target=\"_parent\"><img src=\"https://colab.research.google.com/assets/colab-badge.svg\" alt=\"Open In Colab\"/></a>"
      ]
    },
    {
      "cell_type": "markdown",
      "source": [
        "**Diccionarios**"
      ],
      "metadata": {
        "id": "WLw10IPI5ZsW"
      }
    },
    {
      "cell_type": "markdown",
      "source": [
        "Creación de data"
      ],
      "metadata": {
        "id": "tNeR8kCM5etU"
      }
    },
    {
      "cell_type": "code",
      "execution_count": null,
      "metadata": {
        "colab": {
          "base_uri": "https://localhost:8080/"
        },
        "id": "IqX_H8qVo-SV",
        "outputId": "8a9b61bb-88db-4a45-9f2b-82b6906a17d7"
      },
      "outputs": [
        {
          "output_type": "execute_result",
          "data": {
            "text/plain": [
              "{'name': 'Luis',\n",
              " 'surname': 'Palomino',\n",
              " 'speaks': ['Spanish', 'English', 'Portuguese'],\n",
              " 'country': 'Peru',\n",
              " 'city': 'Lima',\n",
              " 'pet': 'cat'}"
            ]
          },
          "metadata": {},
          "execution_count": 26
        }
      ],
      "source": [
        "Diccionario1={\"name\":\"Luis\",\n",
        "              \"surname\":\"Palomino\",\n",
        "             \"speaks\":['Spanish', 'English', \"Portuguese\"],\n",
        "             'country':'Peru',\n",
        "             \"city\": \"Lima\",\n",
        "             \"pet\": \"cat\"}\n",
        "Diccionario1"
      ]
    },
    {
      "cell_type": "markdown",
      "source": [
        "Acceso a la data"
      ],
      "metadata": {
        "id": "UBqzSXVu5vQm"
      }
    },
    {
      "cell_type": "code",
      "source": [
        "Diccionario1.keys()"
      ],
      "metadata": {
        "colab": {
          "base_uri": "https://localhost:8080/"
        },
        "id": "tit9gH9w5wX9",
        "outputId": "04b082ee-c2b3-40dd-fb47-3d68fda6707e"
      },
      "execution_count": null,
      "outputs": [
        {
          "output_type": "execute_result",
          "data": {
            "text/plain": [
              "dict_keys(['name', 'surname', 'speaks', 'country', 'city', 'pet'])"
            ]
          },
          "metadata": {},
          "execution_count": 27
        }
      ]
    },
    {
      "cell_type": "code",
      "source": [
        "Diccionario1['name']"
      ],
      "metadata": {
        "colab": {
          "base_uri": "https://localhost:8080/",
          "height": 35
        },
        "id": "ZDPOYYxX6Gzf",
        "outputId": "e5800f20-09f3-4b3a-d53a-9339b780b211"
      },
      "execution_count": null,
      "outputs": [
        {
          "output_type": "execute_result",
          "data": {
            "text/plain": [
              "'Luis'"
            ],
            "application/vnd.google.colaboratory.intrinsic+json": {
              "type": "string"
            }
          },
          "metadata": {},
          "execution_count": 28
        }
      ]
    },
    {
      "cell_type": "markdown",
      "source": [
        "Se obtiene que el nombre es Luis."
      ],
      "metadata": {
        "id": "rpfGcINL6S1H"
      }
    },
    {
      "cell_type": "code",
      "source": [
        "Diccionario1['speaks'][2]"
      ],
      "metadata": {
        "colab": {
          "base_uri": "https://localhost:8080/",
          "height": 35
        },
        "id": "wDPK0TdD6PL-",
        "outputId": "2f895de2-bb14-49fb-90f1-8e0f78a696e0"
      },
      "execution_count": null,
      "outputs": [
        {
          "output_type": "execute_result",
          "data": {
            "text/plain": [
              "'Portuguese'"
            ],
            "application/vnd.google.colaboratory.intrinsic+json": {
              "type": "string"
            }
          },
          "metadata": {},
          "execution_count": 29
        }
      ]
    },
    {
      "cell_type": "markdown",
      "source": [
        "Se extrae que el tercer idioma es portugués."
      ],
      "metadata": {
        "id": "vRuddEtt6VBf"
      }
    },
    {
      "cell_type": "markdown",
      "source": [
        "Reemplazo"
      ],
      "metadata": {
        "id": "go2XWO436bVO"
      }
    },
    {
      "cell_type": "code",
      "source": [
        "Diccionario1['pet']='dog'\n",
        "Diccionario1"
      ],
      "metadata": {
        "colab": {
          "base_uri": "https://localhost:8080/"
        },
        "id": "A9Z49XGm66u_",
        "outputId": "962690b0-3b4c-440d-f6a6-a84fe4fdf26d"
      },
      "execution_count": null,
      "outputs": [
        {
          "output_type": "execute_result",
          "data": {
            "text/plain": [
              "{'name': 'Luis',\n",
              " 'surname': 'Palomino',\n",
              " 'speaks': ['Spanish', 'English', 'Portuguese'],\n",
              " 'country': 'Peru',\n",
              " 'city': 'Lima',\n",
              " 'pet': 'dog'}"
            ]
          },
          "metadata": {},
          "execution_count": 30
        }
      ]
    },
    {
      "cell_type": "markdown",
      "source": [
        "Se reemplazó la mascota de gato por perro."
      ],
      "metadata": {
        "id": "0-bO7ZS57IG3"
      }
    },
    {
      "cell_type": "markdown",
      "source": [
        "Eliminación"
      ],
      "metadata": {
        "id": "gyPtTeTH7ETb"
      }
    },
    {
      "cell_type": "code",
      "source": [
        "del Diccionario1['city']\n",
        "Diccionario1"
      ],
      "metadata": {
        "colab": {
          "base_uri": "https://localhost:8080/"
        },
        "id": "O-7UaP2m7Oi4",
        "outputId": "1cde6de6-ffa1-4d19-ef00-dffe3d5b3642"
      },
      "execution_count": null,
      "outputs": [
        {
          "output_type": "execute_result",
          "data": {
            "text/plain": [
              "{'name': 'Luis',\n",
              " 'surname': 'Palomino',\n",
              " 'speaks': ['Spanish', 'English', 'Portuguese'],\n",
              " 'country': 'Peru',\n",
              " 'pet': 'dog'}"
            ]
          },
          "metadata": {},
          "execution_count": 31
        }
      ]
    },
    {
      "cell_type": "markdown",
      "source": [
        "Se eliminó el valor City."
      ],
      "metadata": {
        "id": "r0K_0XDN7VjG"
      }
    },
    {
      "cell_type": "code",
      "source": [
        "Diccionario1.pop('surname')\n",
        "Diccionario1"
      ],
      "metadata": {
        "colab": {
          "base_uri": "https://localhost:8080/"
        },
        "id": "_yBG6F217Zee",
        "outputId": "93de82fb-03a2-4fb1-eb96-c65724483dd7"
      },
      "execution_count": null,
      "outputs": [
        {
          "output_type": "execute_result",
          "data": {
            "text/plain": [
              "{'name': 'Luis',\n",
              " 'speaks': ['Spanish', 'English', 'Portuguese'],\n",
              " 'country': 'Peru',\n",
              " 'pet': 'dog'}"
            ]
          },
          "metadata": {},
          "execution_count": 32
        }
      ]
    },
    {
      "cell_type": "markdown",
      "source": [
        "  Se eliminó el valor Surname."
      ],
      "metadata": {
        "id": "_ggh8u-97h0m"
      }
    },
    {
      "cell_type": "markdown",
      "source": [
        "Inserción"
      ],
      "metadata": {
        "id": "ZiTzHGX57l7g"
      }
    },
    {
      "cell_type": "code",
      "source": [
        "SurnamesP=[\"Milei\", \"Arce\", \"da Silva\", \"Boric\", \"Petro\", \"Chaves\", \"Díaz-Canel\",\n",
        "           \"Noboa\", \"Bukele\", \"Arévalo\", \"Castro\", \"López Obrador\",\n",
        "           \"Ortega\", \"Cortizo\", \"Peña\", \"Boluarte\", \"Abinader\", \"Lacalle Pou\", \"Maduro\"]\n",
        "agesP=[53,60,78,37,63,62,63,36,42,65,64,70,78,70,45,61,56,50,61]\n",
        "countriesP=[\"Argentina\", \"Bolivia\", \"Brasil\", \"Chile\", \"Colombia\", \"Costa Rica\", \"Cuba\",\n",
        "            \"Ecuador\", \"El Salvador\", \"Guatemala\", \"Honduras\", \"México\", \"Nicaragua\", \"Panamá\",\n",
        "            \"Paraguay\", \"Perú\", \"República Dominicana\", \"Uruguay\", \"Venezuela\"]\n",
        "pol_orientationP=[\"Derecha\", \"Izquierda\", \"Izquierda\", \"Centroizquierda\", \"Izquierda\", \"Centroderecha\",\n",
        "                  \"Izquierda\", \"Centroderecha\", \"Centro\", \"Izquierda\", \"Centroizquierda\", \"Izquierda\",\n",
        "                  \"Izquierda\", \"Centro\", \"Centroderecha\", \"Centro\", \"Centroizquierda\", \"Centroderecha\",\n",
        "                  \"Izquierda\"]"
      ],
      "metadata": {
        "id": "zwaCNeMJ7nXf"
      },
      "execution_count": null,
      "outputs": []
    },
    {
      "cell_type": "code",
      "source": [
        "Diccionario2=dict(Surnames=SurnamesP,Ages=agesP,Countries=countriesP)\n",
        "Diccionario2"
      ],
      "metadata": {
        "colab": {
          "base_uri": "https://localhost:8080/"
        },
        "id": "gXATSe0W8moP",
        "outputId": "2694bf68-bbe1-4d57-b093-4fa4133e1388"
      },
      "execution_count": null,
      "outputs": [
        {
          "output_type": "execute_result",
          "data": {
            "text/plain": [
              "{'Surnames': ['Milei',\n",
              "  'Arce',\n",
              "  'da Silva',\n",
              "  'Boric',\n",
              "  'Petro',\n",
              "  'Chaves',\n",
              "  'Díaz-Canel',\n",
              "  'Noboa',\n",
              "  'Bukele',\n",
              "  'Arévalo',\n",
              "  'Castro',\n",
              "  'López Obrador',\n",
              "  'Ortega',\n",
              "  'Cortizo',\n",
              "  'Peña',\n",
              "  'Boluarte',\n",
              "  'Abinader',\n",
              "  'Lacalle Pou',\n",
              "  'Maduro'],\n",
              " 'Ages': [53,\n",
              "  60,\n",
              "  78,\n",
              "  37,\n",
              "  63,\n",
              "  62,\n",
              "  63,\n",
              "  36,\n",
              "  42,\n",
              "  65,\n",
              "  64,\n",
              "  70,\n",
              "  78,\n",
              "  70,\n",
              "  45,\n",
              "  61,\n",
              "  56,\n",
              "  50,\n",
              "  61],\n",
              " 'Countries': ['Argentina',\n",
              "  'Bolivia',\n",
              "  'Brasil',\n",
              "  'Chile',\n",
              "  'Colombia',\n",
              "  'Costa Rica',\n",
              "  'Cuba',\n",
              "  'Ecuador',\n",
              "  'El Salvador',\n",
              "  'Guatemala',\n",
              "  'Honduras',\n",
              "  'México',\n",
              "  'Nicaragua',\n",
              "  'Panamá',\n",
              "  'Paraguay',\n",
              "  'Perú',\n",
              "  'República Dominicana',\n",
              "  'Uruguay',\n",
              "  'Venezuela']}"
            ]
          },
          "metadata": {},
          "execution_count": 34
        }
      ]
    },
    {
      "cell_type": "code",
      "source": [
        "Diccionario2.update({'Pol_orientation':pol_orientationP})\n",
        "Diccionario2"
      ],
      "metadata": {
        "colab": {
          "base_uri": "https://localhost:8080/"
        },
        "id": "-8eSAvbR87RH",
        "outputId": "3bac5739-a0b6-4906-e86d-671f030188cc"
      },
      "execution_count": null,
      "outputs": [
        {
          "output_type": "execute_result",
          "data": {
            "text/plain": [
              "{'Surnames': ['Milei',\n",
              "  'Arce',\n",
              "  'da Silva',\n",
              "  'Boric',\n",
              "  'Petro',\n",
              "  'Chaves',\n",
              "  'Díaz-Canel',\n",
              "  'Noboa',\n",
              "  'Bukele',\n",
              "  'Arévalo',\n",
              "  'Castro',\n",
              "  'López Obrador',\n",
              "  'Ortega',\n",
              "  'Cortizo',\n",
              "  'Peña',\n",
              "  'Boluarte',\n",
              "  'Abinader',\n",
              "  'Lacalle Pou',\n",
              "  'Maduro'],\n",
              " 'Ages': [53,\n",
              "  60,\n",
              "  78,\n",
              "  37,\n",
              "  63,\n",
              "  62,\n",
              "  63,\n",
              "  36,\n",
              "  42,\n",
              "  65,\n",
              "  64,\n",
              "  70,\n",
              "  78,\n",
              "  70,\n",
              "  45,\n",
              "  61,\n",
              "  56,\n",
              "  50,\n",
              "  61],\n",
              " 'Countries': ['Argentina',\n",
              "  'Bolivia',\n",
              "  'Brasil',\n",
              "  'Chile',\n",
              "  'Colombia',\n",
              "  'Costa Rica',\n",
              "  'Cuba',\n",
              "  'Ecuador',\n",
              "  'El Salvador',\n",
              "  'Guatemala',\n",
              "  'Honduras',\n",
              "  'México',\n",
              "  'Nicaragua',\n",
              "  'Panamá',\n",
              "  'Paraguay',\n",
              "  'Perú',\n",
              "  'República Dominicana',\n",
              "  'Uruguay',\n",
              "  'Venezuela'],\n",
              " 'Pol_orientation': ['Derecha',\n",
              "  'Izquierda',\n",
              "  'Izquierda',\n",
              "  'Centroizquierda',\n",
              "  'Izquierda',\n",
              "  'Centroderecha',\n",
              "  'Izquierda',\n",
              "  'Centroderecha',\n",
              "  'Centro',\n",
              "  'Izquierda',\n",
              "  'Centroizquierda',\n",
              "  'Izquierda',\n",
              "  'Izquierda',\n",
              "  'Centro',\n",
              "  'Centroderecha',\n",
              "  'Centro',\n",
              "  'Centroizquierda',\n",
              "  'Centroderecha',\n",
              "  'Izquierda']}"
            ]
          },
          "metadata": {},
          "execution_count": 35
        }
      ]
    },
    {
      "cell_type": "markdown",
      "source": [
        "Se añadió las orientaciones políticas en el diccionario."
      ],
      "metadata": {
        "id": "vRmwVZMR9Km_"
      }
    }
  ]
}